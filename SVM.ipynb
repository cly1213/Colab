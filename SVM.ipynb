{
  "nbformat": 4,
  "nbformat_minor": 0,
  "metadata": {
    "colab": {
      "name": "myfirstcolab.ipynb",
      "version": "0.3.2",
      "provenance": [],
      "collapsed_sections": [],
      "include_colab_link": true
    },
    "kernelspec": {
      "name": "python3",
      "display_name": "Python 3"
    },
    "accelerator": "GPU"
  },
  "cells": [
    {
      "cell_type": "markdown",
      "metadata": {
        "id": "view-in-github",
        "colab_type": "text"
      },
      "source": [
        "<a href=\"https://colab.research.google.com/github/cly1213/Colab/blob/master/SVM.ipynb\" target=\"_parent\"><img src=\"https://colab.research.google.com/assets/colab-badge.svg\" alt=\"Open In Colab\"/></a>"
      ]
    },
    {
      "cell_type": "code",
      "metadata": {
        "id": "MDf49ubwoTRg",
        "colab_type": "code",
        "outputId": "1c353796-504e-494f-8049-61059ddbf794",
        "colab": {
          "base_uri": "https://localhost:8080/",
          "height": 54
        }
      },
      "source": [
        "from google.colab import drive\n",
        "import os\n",
        "drive.mount('/content/gdrive')"
      ],
      "execution_count": 0,
      "outputs": [
        {
          "output_type": "stream",
          "text": [
            "Drive already mounted at /content/gdrive; to attempt to forcibly remount, call drive.mount(\"/content/gdrive\", force_remount=True).\n"
          ],
          "name": "stdout"
        }
      ]
    },
    {
      "cell_type": "code",
      "metadata": {
        "id": "W2HEQkfDnwRi",
        "colab_type": "code",
        "colab": {}
      },
      "source": [
        "os.chdir(\"/content/gdrive/My Drive/source\") #change directory"
      ],
      "execution_count": 0,
      "outputs": []
    },
    {
      "cell_type": "code",
      "metadata": {
        "id": "pCRDeYcBoMJh",
        "colab_type": "code",
        "outputId": "9857b94d-ab8c-4aa9-dde5-f25778bfa951",
        "colab": {
          "base_uri": "https://localhost:8080/",
          "height": 34
        }
      },
      "source": [
        "os.getcwd() #get current working directory"
      ],
      "execution_count": 0,
      "outputs": [
        {
          "output_type": "execute_result",
          "data": {
            "text/plain": [
              "'/content/gdrive/My Drive/source'"
            ]
          },
          "metadata": {
            "tags": []
          },
          "execution_count": 35
        }
      ]
    },
    {
      "cell_type": "code",
      "metadata": {
        "id": "_A7hW_jaqzp4",
        "colab_type": "code",
        "outputId": "fd4882ec-9515-412f-bafe-b2d3f13d3b42",
        "colab": {
          "base_uri": "https://localhost:8080/",
          "height": 34
        }
      },
      "source": [
        "!ls"
      ],
      "execution_count": 0,
      "outputs": [
        {
          "output_type": "stream",
          "text": [
            "dataset  RNN  svm.py\n"
          ],
          "name": "stdout"
        }
      ]
    },
    {
      "cell_type": "code",
      "metadata": {
        "id": "JCSp2g6eq0-R",
        "colab_type": "code",
        "outputId": "c94a48a0-938e-4765-dec5-c6eea7d8f7ee",
        "colab": {
          "base_uri": "https://localhost:8080/",
          "height": 445
        }
      },
      "source": [
        "!lscpu"
      ],
      "execution_count": 0,
      "outputs": [
        {
          "output_type": "stream",
          "text": [
            "Architecture:        x86_64\n",
            "CPU op-mode(s):      32-bit, 64-bit\n",
            "Byte Order:          Little Endian\n",
            "CPU(s):              2\n",
            "On-line CPU(s) list: 0,1\n",
            "Thread(s) per core:  2\n",
            "Core(s) per socket:  1\n",
            "Socket(s):           1\n",
            "NUMA node(s):        1\n",
            "Vendor ID:           GenuineIntel\n",
            "CPU family:          6\n",
            "Model:               63\n",
            "Model name:          Intel(R) Xeon(R) CPU @ 2.30GHz\n",
            "Stepping:            0\n",
            "CPU MHz:             2300.000\n",
            "BogoMIPS:            4600.00\n",
            "Hypervisor vendor:   KVM\n",
            "Virtualization type: full\n",
            "L1d cache:           32K\n",
            "L1i cache:           32K\n",
            "L2 cache:            256K\n",
            "L3 cache:            46080K\n",
            "NUMA node0 CPU(s):   0,1\n",
            "Flags:               fpu vme de pse tsc msr pae mce cx8 apic sep mtrr pge mca cmov pat pse36 clflush mmx fxsr sse sse2 ss ht syscall nx pdpe1gb rdtscp lm constant_tsc rep_good nopl xtopology nonstop_tsc cpuid tsc_known_freq pni pclmulqdq ssse3 fma cx16 pcid sse4_1 sse4_2 x2apic movbe popcnt aes xsave avx f16c rdrand hypervisor lahf_lm abm invpcid_single pti ssbd ibrs ibpb stibp fsgsbase tsc_adjust bmi1 avx2 smep bmi2 erms invpcid xsaveopt arat arch_capabilities\n"
          ],
          "name": "stdout"
        }
      ]
    },
    {
      "cell_type": "code",
      "metadata": {
        "id": "1i1AV9SOPM4J",
        "colab_type": "code",
        "outputId": "c4e93b6b-c849-43fa-88c1-e447b18914de",
        "colab": {
          "base_uri": "https://localhost:8080/",
          "height": 34
        }
      },
      "source": [
        "!pwd"
      ],
      "execution_count": 0,
      "outputs": [
        {
          "output_type": "stream",
          "text": [
            "/content/gdrive/My Drive/source\n"
          ],
          "name": "stdout"
        }
      ]
    },
    {
      "cell_type": "code",
      "metadata": {
        "id": "mOyrUXc_qVjF",
        "colab_type": "code",
        "outputId": "3415f413-9054-4bb3-e170-157a8b101668",
        "colab": {
          "base_uri": "https://localhost:8080/",
          "height": 34
        }
      },
      "source": [
        "!ls"
      ],
      "execution_count": 0,
      "outputs": [
        {
          "output_type": "stream",
          "text": [
            "dataset  RNN  svm.py\n"
          ],
          "name": "stdout"
        }
      ]
    },
    {
      "cell_type": "code",
      "metadata": {
        "id": "X7F5onnuqY7Y",
        "colab_type": "code",
        "outputId": "93432917-3c2a-41f3-8a7e-185c6c43dcf8",
        "colab": {
          "base_uri": "https://localhost:8080/",
          "height": 1000
        }
      },
      "source": [
        "!python3 svm.py "
      ],
      "execution_count": 0,
      "outputs": [
        {
          "output_type": "stream",
          "text": [
            "\n",
            "Now processing  comb_20_0.csv ...\n",
            "\n",
            "<Figure size 1000x800 with 8 Axes>\n",
            "         channel1  ...  channel8\n",
            "0       -2.524054  ... -0.493383\n",
            "1       -2.522019  ... -0.480729\n",
            "2       -2.524997  ... -0.472250\n",
            "3       -2.523541  ... -0.472319\n",
            "4       -2.521496  ... -0.488682\n",
            "5       -2.525427  ... -0.486040\n",
            "6       -2.524334  ... -0.479265\n",
            "7       -2.526650  ... -0.484401\n",
            "8       -2.529199  ... -0.486790\n",
            "9       -2.535142  ... -0.482919\n",
            "10      -2.534961  ... -0.479938\n",
            "11      -2.537621  ... -0.482517\n",
            "12      -2.538941  ... -0.482695\n",
            "13      -2.548509  ... -0.486290\n",
            "14      -2.546464  ... -0.482056\n",
            "15      -2.548884  ... -0.480872\n",
            "16      -2.546632  ... -0.485661\n",
            "17      -2.546221  ... -0.482851\n",
            "18      -2.544453  ... -0.488474\n",
            "19      -2.548828  ... -0.486635\n",
            "20      -2.550253  ... -0.481148\n",
            "21      -2.549938  ... -0.487746\n",
            "22      -2.548311  ... -0.483979\n",
            "23      -2.544639  ... -0.481925\n",
            "24      -2.544690  ... -0.486035\n",
            "25      -2.545187  ... -0.493433\n",
            "26      -2.546766  ... -0.490441\n",
            "27      -2.549065  ... -0.484252\n",
            "28      -2.548018  ... -0.479321\n",
            "29      -2.548839  ... -0.486300\n",
            "...           ...  ...       ...\n",
            "1048530 -0.176936  ... -0.003833\n",
            "1048531 -0.177302  ... -0.003786\n",
            "1048532 -0.179325  ...  0.000215\n",
            "1048533 -0.178758  ...  0.005221\n",
            "1048534 -0.176187  ... -0.000391\n",
            "1048535 -0.173960  ... -0.003085\n",
            "1048536 -0.172033  ... -0.003421\n",
            "1048537 -0.173899  ...  0.004430\n",
            "1048538 -0.171276  ...  0.001817\n",
            "1048539 -0.168664  ... -0.004966\n",
            "1048540 -0.164800  ... -0.003611\n",
            "1048541 -0.170768  ...  0.001022\n",
            "1048542 -0.165458  ...  0.006304\n",
            "1048543 -0.167694  ...  0.002675\n",
            "1048544 -0.161220  ... -0.005467\n",
            "1048545 -0.165733  ... -0.012600\n",
            "1048546 -0.162559  ...  0.011685\n",
            "1048547 -0.164260  ...  0.007465\n",
            "1048548 -0.159830  ... -0.004379\n",
            "1048549 -0.163540  ... -0.006794\n",
            "1048550 -0.162914  ... -0.003825\n",
            "1048551 -0.168679  ...  0.007466\n",
            "1048552 -0.162665  ...  0.006018\n",
            "1048553 -0.166978  ... -0.000238\n",
            "1048554 -0.165231  ...  0.000622\n",
            "1048555 -0.169469  ... -0.000414\n",
            "1048556 -0.167761  ... -0.004390\n",
            "1048557 -0.166444  ...  0.003530\n",
            "1048558 -0.163476  ...  0.004600\n",
            "1048559 -0.165600  ... -0.000079\n",
            "\n",
            "[1048560 rows x 8 columns] (1048560, 8)\n",
            "Now processing  health_20_0.csv ...\n",
            "\n",
            "<Figure size 1000x800 with 8 Axes>\n",
            "         channel1  ...  channel8\n",
            "0       -2.620149  ... -0.749513\n",
            "1       -2.623150  ... -0.722474\n",
            "2       -2.620016  ... -0.754347\n",
            "3       -2.618047  ... -0.741094\n",
            "4       -2.616639  ... -0.745419\n",
            "5       -2.618781  ... -0.739733\n",
            "6       -2.618632  ... -0.740503\n",
            "7       -2.617449  ... -0.764458\n",
            "8       -2.615622  ... -0.738304\n",
            "9       -2.613004  ... -0.735044\n",
            "10      -2.615508  ... -0.725889\n",
            "11      -2.615076  ... -0.749216\n",
            "12      -2.611537  ... -0.759313\n",
            "13      -2.609360  ... -0.743583\n",
            "14      -2.604698  ... -0.730003\n",
            "15      -2.607384  ... -0.737693\n",
            "16      -2.606997  ... -0.754452\n",
            "17      -2.608219  ... -0.758758\n",
            "18      -2.606816  ... -0.738384\n",
            "19      -2.605639  ... -0.728095\n",
            "20      -2.606772  ... -0.738701\n",
            "21      -2.606936  ... -0.756196\n",
            "22      -2.605865  ... -0.747641\n",
            "23      -2.609835  ... -0.740583\n",
            "24      -2.606282  ... -0.734348\n",
            "25      -2.605604  ... -0.741447\n",
            "26      -2.606031  ... -0.755866\n",
            "27      -2.604997  ... -0.752110\n",
            "28      -2.609208  ... -0.740099\n",
            "29      -2.608429  ... -0.740052\n",
            "...           ...  ...       ...\n",
            "1048530 -0.172544  ... -0.004017\n",
            "1048531 -0.177423  ... -0.008937\n",
            "1048532 -0.178893  ... -0.005548\n",
            "1048533 -0.176624  ...  0.012320\n",
            "1048534 -0.172573  ...  0.001173\n",
            "1048535 -0.178990  ... -0.012199\n",
            "1048536 -0.178652  ... -0.011804\n",
            "1048537 -0.181570  ... -0.003446\n",
            "1048538 -0.179989  ...  0.012897\n",
            "1048539 -0.179479  ...  0.015867\n",
            "1048540 -0.176697  ... -0.017281\n",
            "1048541 -0.175495  ... -0.020798\n",
            "1048542 -0.173256  ...  0.006394\n",
            "1048543 -0.174456  ...  0.007634\n",
            "1048544 -0.177923  ...  0.006950\n",
            "1048545 -0.179844  ... -0.007228\n",
            "1048546 -0.176070  ... -0.014292\n",
            "1048547 -0.169884  ... -0.001483\n",
            "1048548 -0.168114  ...  0.005362\n",
            "1048549 -0.173808  ... -0.002317\n",
            "1048550 -0.176988  ...  0.005671\n",
            "1048551 -0.174224  ... -0.005451\n",
            "1048552 -0.173897  ... -0.010680\n",
            "1048553 -0.166820  ...  0.002607\n",
            "1048554 -0.169971  ...  0.002625\n",
            "1048555 -0.173261  ...  0.000443\n",
            "1048556 -0.178133  ... -0.006442\n",
            "1048557 -0.174011  ... -0.008398\n",
            "1048558 -0.169688  ...  0.013319\n",
            "1048559 -0.163255  ...  0.002775\n",
            "\n",
            "[1048560 rows x 8 columns] (1048560, 8)\n",
            "\n",
            "(1342156, 8) (1342156,) (335540, 8) (335540,)\n",
            "0.5055\n"
          ],
          "name": "stdout"
        }
      ]
    },
    {
      "cell_type": "code",
      "metadata": {
        "id": "d57jZRqBqfYc",
        "colab_type": "code",
        "outputId": "d1218d98-8e17-483a-b5a1-8f8647dc5024",
        "colab": {
          "base_uri": "https://localhost:8080/",
          "height": 187
        }
      },
      "source": [
        "!python3 svm.py "
      ],
      "execution_count": 0,
      "outputs": [
        {
          "output_type": "stream",
          "text": [
            "\n",
            "Now processing  comb_20_0.csv ...\n",
            "\n",
            "<Figure size 1000x800 with 8 Axes>\n",
            "Now processing  health_20_0.csv ...\n",
            "\n",
            "<Figure size 1000x800 with 8 Axes>\n",
            "\n",
            "(10484, 64) (10484,) (2622, 64) (2622,)\n",
            "0.9439359267734554\n"
          ],
          "name": "stdout"
        }
      ]
    },
    {
      "cell_type": "code",
      "metadata": {
        "id": "pglEBArfvrLf",
        "colab_type": "code",
        "outputId": "d3d17a85-c724-4c2d-b78f-5b34ab16bbdc",
        "colab": {
          "base_uri": "https://localhost:8080/",
          "height": 187
        }
      },
      "source": [
        "!python3 svm.py "
      ],
      "execution_count": 0,
      "outputs": [
        {
          "output_type": "stream",
          "text": [
            "\n",
            "Now processing  comb_20_0.csv ...\n",
            "\n",
            "<Figure size 1000x800 with 8 Axes>\n",
            "Now processing  health_20_0.csv ...\n",
            "\n",
            "<Figure size 1000x800 with 8 Axes>\n",
            "\n",
            "(10484, 64) (10484,) (2622, 64) (2622,)\n",
            "[0.95090562 0.95471878 0.95085878 0.94656489 0.94942748]\n"
          ],
          "name": "stdout"
        }
      ]
    },
    {
      "cell_type": "code",
      "metadata": {
        "id": "QUmaqY57xL80",
        "colab_type": "code",
        "colab": {}
      },
      "source": [
        ""
      ],
      "execution_count": 0,
      "outputs": []
    }
  ]
}