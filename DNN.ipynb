{
  "nbformat": 4,
  "nbformat_minor": 0,
  "metadata": {
    "colab": {
      "name": "DNN.ipynb",
      "version": "0.3.2",
      "provenance": [],
      "collapsed_sections": [],
      "include_colab_link": true
    },
    "kernelspec": {
      "name": "python3",
      "display_name": "Python 3"
    }
  },
  "cells": [
    {
      "cell_type": "markdown",
      "metadata": {
        "id": "view-in-github",
        "colab_type": "text"
      },
      "source": [
        "<a href=\"https://colab.research.google.com/github/cly1213/Colab/blob/master/DNN.ipynb\" target=\"_parent\"><img src=\"https://colab.research.google.com/assets/colab-badge.svg\" alt=\"Open In Colab\"/></a>"
      ]
    },
    {
      "cell_type": "code",
      "metadata": {
        "id": "X5Hi59ol9P9n",
        "colab_type": "code",
        "colab": {}
      },
      "source": [
        "from google.colab import drive\n",
        "import os\n",
        "drive.mount('/content/gdrive')"
      ],
      "execution_count": 0,
      "outputs": []
    },
    {
      "cell_type": "code",
      "metadata": {
        "id": "T28rC5QmC-pk",
        "colab_type": "code",
        "colab": {}
      },
      "source": [
        ""
      ],
      "execution_count": 0,
      "outputs": []
    },
    {
      "cell_type": "code",
      "metadata": {
        "id": "ckYfZEmY9QyR",
        "colab_type": "code",
        "colab": {}
      },
      "source": [
        "os.chdir(\"/content/gdrive/My Drive\") #change directory"
      ],
      "execution_count": 0,
      "outputs": []
    },
    {
      "cell_type": "code",
      "metadata": {
        "id": "PbWKKu9t9nKr",
        "colab_type": "code",
        "colab": {}
      },
      "source": [
        "os.getcwd()"
      ],
      "execution_count": 0,
      "outputs": []
    },
    {
      "cell_type": "code",
      "metadata": {
        "id": "0IfWhnTz9oCe",
        "colab_type": "code",
        "colab": {}
      },
      "source": [
        "!ls"
      ],
      "execution_count": 0,
      "outputs": []
    },
    {
      "cell_type": "code",
      "metadata": {
        "id": "_Zlnf7al-fz-",
        "colab_type": "code",
        "colab": {}
      },
      "source": [
        "import pandas as pd\n",
        "dataset = pd.read_csv('./input/titanic.csv')\n",
        "dataset"
      ],
      "execution_count": 0,
      "outputs": []
    },
    {
      "cell_type": "code",
      "metadata": {
        "id": "Ygy6oj_a_B0-",
        "colab_type": "code",
        "colab": {}
      },
      "source": [
        "dataset.shape"
      ],
      "execution_count": 0,
      "outputs": []
    },
    {
      "cell_type": "code",
      "metadata": {
        "id": "AIskPQW8_NOa",
        "colab_type": "code",
        "colab": {}
      },
      "source": [
        "dataset.info()"
      ],
      "execution_count": 0,
      "outputs": []
    },
    {
      "cell_type": "code",
      "metadata": {
        "id": "cqCM1g8A_QkQ",
        "colab_type": "code",
        "colab": {}
      },
      "source": [
        "import matplotlib.pyplot as plt\n",
        "%matplotlib inline\n",
        "import seaborn as sns\n",
        "sns.set() # setting seaborn default for plots"
      ],
      "execution_count": 0,
      "outputs": []
    },
    {
      "cell_type": "code",
      "metadata": {
        "id": "I1jid4Pw_War",
        "colab_type": "code",
        "colab": {}
      },
      "source": [
        "def bar_chart(feature):\n",
        "  survived = dataset[dataset['Survived']==1][feature].value_counts() \n",
        "  dead = dataset[dataset['Survived']==0][feature].value_counts()\n",
        "  df = pd.DataFrame([survived,dead])\n",
        "  df.index = ['Survived','Dead']\n",
        "  df.plot(kind='bar',stacked=True, figsize=(10,5))"
      ],
      "execution_count": 0,
      "outputs": []
    },
    {
      "cell_type": "code",
      "metadata": {
        "id": "94LM7FEA_brH",
        "colab_type": "code",
        "colab": {}
      },
      "source": [
        "bar_chart('Sex')"
      ],
      "execution_count": 0,
      "outputs": []
    },
    {
      "cell_type": "code",
      "metadata": {
        "id": "inCa7eSB_miB",
        "colab_type": "code",
        "colab": {}
      },
      "source": [
        "bar_chart('Pclass')"
      ],
      "execution_count": 0,
      "outputs": []
    },
    {
      "cell_type": "code",
      "metadata": {
        "id": "9DI3ldB3_q4z",
        "colab_type": "code",
        "colab": {}
      },
      "source": [
        "dataset['Title'] = dataset['Name'].str.extract(' ([A-Za-z]+)\\.', expand=False)\n",
        "\n",
        "#https://reurl.cc/qeZQE\n",
        "#https://reurl.cc/Neb8n"
      ],
      "execution_count": 0,
      "outputs": []
    },
    {
      "cell_type": "code",
      "metadata": {
        "id": "NP31KvMFE_84",
        "colab_type": "code",
        "colab": {}
      },
      "source": [
        "dataset['Title'].value_counts()"
      ],
      "execution_count": 0,
      "outputs": []
    },
    {
      "cell_type": "code",
      "metadata": {
        "id": "PhHJLpJuFWMd",
        "colab_type": "code",
        "colab": {}
      },
      "source": [
        "title_mapping = {\"Mr\":0, \"Miss\":1, \"Mrs\":2}\n",
        "\n",
        "dataset['Title'] = dataset['Title'].map(title_mapping)\n"
      ],
      "execution_count": 0,
      "outputs": []
    },
    {
      "cell_type": "code",
      "metadata": {
        "id": "jULLeAwwAkOv",
        "colab_type": "code",
        "colab": {}
      },
      "source": [
        "#add \n",
        "dataset['Title'] = dataset['Title'].fillna(3)"
      ],
      "execution_count": 0,
      "outputs": []
    },
    {
      "cell_type": "code",
      "metadata": {
        "id": "wf_eBSDLF6zd",
        "colab_type": "code",
        "colab": {}
      },
      "source": [
        "bar_chart('Title')"
      ],
      "execution_count": 0,
      "outputs": []
    },
    {
      "cell_type": "code",
      "metadata": {
        "id": "XxIswX_4GHlR",
        "colab_type": "code",
        "colab": {}
      },
      "source": [
        "sex_mapping = {\"male\":0, \"female\":1}\n",
        "dataset['Sex'] = dataset['Sex'].map(sex_mapping)"
      ],
      "execution_count": 0,
      "outputs": []
    },
    {
      "cell_type": "code",
      "metadata": {
        "id": "X7p5qO5HHUiV",
        "colab_type": "code",
        "colab": {}
      },
      "source": [
        "bar_chart('Sex')"
      ],
      "execution_count": 0,
      "outputs": []
    },
    {
      "cell_type": "code",
      "metadata": {
        "id": "wUCGheT6HZRM",
        "colab_type": "code",
        "colab": {}
      },
      "source": [
        "dataset.head(100)"
      ],
      "execution_count": 0,
      "outputs": []
    },
    {
      "cell_type": "code",
      "metadata": {
        "id": "l5Go9eVxOdka",
        "colab_type": "code",
        "colab": {}
      },
      "source": [
        "# fill missing age with median age for each title (Mr, Mrs, Miss, Others) \n",
        "dataset[\"Age\"].fillna(dataset.groupby(\"Title\")[\"Age\"].transform(\"median\"), inplace=True) \n",
        "dataset[\"Age\"]"
      ],
      "execution_count": 0,
      "outputs": []
    },
    {
      "cell_type": "code",
      "metadata": {
        "id": "QXMDFJ_aOpDH",
        "colab_type": "code",
        "colab": {}
      },
      "source": [
        "facet = sns.FacetGrid(dataset, hue=\"Survived\",aspect=4) \n",
        "facet.map(sns.kdeplot,'Age',shade= True) \n",
        "facet.set(xlim=(0, dataset['Age'].max())) \n",
        "facet.add_legend()\n",
        "\n",
        "plt.show()"
      ],
      "execution_count": 0,
      "outputs": []
    },
    {
      "cell_type": "code",
      "metadata": {
        "id": "QErdjDidOumr",
        "colab_type": "code",
        "colab": {}
      },
      "source": [
        "dataset.loc[ dataset['Age'] <= 16, 'Age'] = 0, \n",
        "dataset.loc[(dataset['Age'] > 16) & (dataset['Age'] <= 26), 'Age'] = 1, \n",
        "dataset.loc[(dataset['Age'] > 26) & (dataset['Age'] <= 36), 'Age'] = 2, \n",
        "dataset.loc[(dataset['Age'] > 36) & (dataset['Age'] <= 62), 'Age'] = 3, \n",
        "dataset.loc[ dataset['Age'] > 62, 'Age'] = 4"
      ],
      "execution_count": 0,
      "outputs": []
    },
    {
      "cell_type": "code",
      "metadata": {
        "id": "XfsRGimwO7lH",
        "colab_type": "code",
        "colab": {}
      },
      "source": [
        "dataset.head()"
      ],
      "execution_count": 0,
      "outputs": []
    },
    {
      "cell_type": "code",
      "metadata": {
        "id": "osPEu6BuO_qM",
        "colab_type": "code",
        "colab": {}
      },
      "source": [
        "bar_chart('Age')"
      ],
      "execution_count": 0,
      "outputs": []
    },
    {
      "cell_type": "code",
      "metadata": {
        "id": "cAlG-lWqPEK9",
        "colab_type": "code",
        "colab": {}
      },
      "source": [
        "Pclass1 = dataset[dataset['Pclass']==1]['Embarked'].value_counts() \n",
        "Pclass2 = dataset[dataset['Pclass']==2]['Embarked'].value_counts() \n",
        "Pclass3 = dataset[dataset['Pclass']==3]['Embarked'].value_counts() \n",
        "df = pd.DataFrame([Pclass1, Pclass2, Pclass3])\n",
        "df.index = ['1st class','2nd class', '3rd class'] \n",
        "df.plot(kind='bar',stacked=True, figsize=(10,5))"
      ],
      "execution_count": 0,
      "outputs": []
    },
    {
      "cell_type": "code",
      "metadata": {
        "id": "UIPJqEUZPXjW",
        "colab_type": "code",
        "colab": {}
      },
      "source": [
        "dataset['Embarked'] = dataset['Embarked'].fillna('S')\n",
        "dataset.head(100)\n"
      ],
      "execution_count": 0,
      "outputs": []
    },
    {
      "cell_type": "code",
      "metadata": {
        "id": "52xJpdKuPzJt",
        "colab_type": "code",
        "colab": {}
      },
      "source": [
        "embarked_mapping = {'S':0, 'C':1, 'Q':2}\n",
        "dataset['Embarked'] = dataset['Embarked'].map(embarked_mapping)\n"
      ],
      "execution_count": 0,
      "outputs": []
    },
    {
      "cell_type": "code",
      "metadata": {
        "id": "aBmrkndAQbI7",
        "colab_type": "code",
        "colab": {}
      },
      "source": [
        "dataset.head(100)"
      ],
      "execution_count": 0,
      "outputs": []
    },
    {
      "cell_type": "code",
      "metadata": {
        "id": "Ebsp4UInRa-U",
        "colab_type": "code",
        "colab": {}
      },
      "source": [
        "#fill missing Fare with median fare for each Pclass\n",
        "dataset[\"Fare\"].fillna(dataset.groupby(\"Pclass\")[\"Fare\"].transform(\"median\"), inplace=True) \n",
        "dataset[\"Fare\"]"
      ],
      "execution_count": 0,
      "outputs": []
    },
    {
      "cell_type": "code",
      "metadata": {
        "id": "jW0i26urVZc2",
        "colab_type": "code",
        "colab": {}
      },
      "source": [
        "facet = sns.FacetGrid(dataset, hue=\"Survived\",aspect=4)\n",
        "facet.map(sns.kdeplot,'Fare',shade= True) \n",
        "facet.set(xlim=(0, dataset['Fare'].max())) \n",
        "facet.add_legend()\n",
        "plt.show()"
      ],
      "execution_count": 0,
      "outputs": []
    },
    {
      "cell_type": "code",
      "metadata": {
        "id": "IZcZPDmqVg3x",
        "colab_type": "code",
        "colab": {}
      },
      "source": [
        "dataset.loc[ dataset['Fare'] <= 17, 'Fare'] = 0, \n",
        "dataset.loc[(dataset['Fare'] > 17) & (dataset['Fare'] <= 30), 'Fare'] = 1, \n",
        "dataset.loc[(dataset['Fare'] > 30) & (dataset['Fare'] <= 100), 'Fare'] = 2,  \n",
        "dataset.loc[ dataset['Fare'] > 100, 'Fare'] = 3"
      ],
      "execution_count": 0,
      "outputs": []
    },
    {
      "cell_type": "code",
      "metadata": {
        "id": "0ceMVZPIWost",
        "colab_type": "code",
        "colab": {}
      },
      "source": [
        "dataset.head(50)"
      ],
      "execution_count": 0,
      "outputs": []
    },
    {
      "cell_type": "code",
      "metadata": {
        "id": "OHm9hAwiWuGR",
        "colab_type": "code",
        "colab": {}
      },
      "source": [
        "dataset.Cabin.value_counts()"
      ],
      "execution_count": 0,
      "outputs": []
    },
    {
      "cell_type": "code",
      "metadata": {
        "id": "IekfhlDmW3UW",
        "colab_type": "code",
        "colab": {}
      },
      "source": [
        "dataset['Cabin'] = dataset['Cabin'].str[:1]\n",
        "Pclass1 = dataset[dataset['Pclass']==1]['Cabin'].value_counts() \n",
        "Pclass2 = dataset[dataset['Pclass']==2]['Cabin'].value_counts() \n",
        "Pclass3 = dataset[dataset['Pclass']==3]['Cabin'].value_counts() \n",
        "df = pd.DataFrame([Pclass1, Pclass2, Pclass3])\n",
        "df.index = ['1st class','2nd class', '3rd class'] \n",
        "df.plot(kind='bar',stacked=True, figsize=(10,5))"
      ],
      "execution_count": 0,
      "outputs": []
    },
    {
      "cell_type": "code",
      "metadata": {
        "id": "0EwyPVapXECP",
        "colab_type": "code",
        "colab": {}
      },
      "source": [
        "cabin_mapping = {\"A\": 0, \"B\": 0.4, \"C\": 0.8, \"D\": 1.2, \"E\": 1.6, \"F\": 2, \"G\": 2.4, \"T\": 2.8} \n",
        "dataset['Cabin'] = dataset['Cabin'].map(cabin_mapping)"
      ],
      "execution_count": 0,
      "outputs": []
    },
    {
      "cell_type": "code",
      "metadata": {
        "id": "WC0yRfPXXJIS",
        "colab_type": "code",
        "colab": {}
      },
      "source": [
        "# fill missing Cabin with median cabin for each Pclass \n",
        "dataset[\"Cabin\"].fillna(dataset.groupby(\"Pclass\")[\"Cabin\"].transform(\"median\"), inplace=True)"
      ],
      "execution_count": 0,
      "outputs": []
    },
    {
      "cell_type": "code",
      "metadata": {
        "id": "hg9S2U0eXOH8",
        "colab_type": "code",
        "colab": {}
      },
      "source": [
        "dataset[\"FamilySize\"] = dataset[\"SibSp\"] + dataset[\"Parch\"] + 1"
      ],
      "execution_count": 0,
      "outputs": []
    },
    {
      "cell_type": "code",
      "metadata": {
        "id": "mL-eZhWcXrgM",
        "colab_type": "code",
        "colab": {}
      },
      "source": [
        "facet = sns.FacetGrid(dataset, hue=\"Survived\",aspect=4) \n",
        "facet.map(sns.kdeplot,'FamilySize',shade= True) \n",
        "facet.set(xlim=(0, dataset['FamilySize'].max())) \n",
        "facet.add_legend()\n",
        "plt.xlim(0)"
      ],
      "execution_count": 0,
      "outputs": []
    },
    {
      "cell_type": "code",
      "metadata": {
        "id": "Cxo3IzvXXy3D",
        "colab_type": "code",
        "colab": {}
      },
      "source": [
        "family_mapping = {1: 0, 2: 0.4, 3: 0.8, 4: 1.2, 5: 1.6, 6: 2, 7: 2.4, 8: 2.8, 9: 3.2, 10: 3.6, 11: 4} \n",
        "dataset['FamilySize'] = dataset['FamilySize'].map(family_mapping)\n",
        " "
      ],
      "execution_count": 0,
      "outputs": []
    },
    {
      "cell_type": "code",
      "metadata": {
        "id": "HKskEZdxYUOi",
        "colab_type": "code",
        "colab": {}
      },
      "source": [
        "features_drop = ['Ticket','SibSp','Parch', 'PassengerId','Name']\n",
        "dataset = dataset.drop(features_drop, axis=1)"
      ],
      "execution_count": 0,
      "outputs": []
    },
    {
      "cell_type": "code",
      "metadata": {
        "id": "9kBq-TlaZEU1",
        "colab_type": "code",
        "colab": {}
      },
      "source": [
        "dataset_data = dataset.drop('Survived', axis=1)\n",
        "dataset_target = dataset['Survived']\n",
        "\n",
        "#dataset_data['Title'] = dataset_data['Title'].fillna('3')\n",
        "\n",
        "dataset_data.shape, dataset_target.shape"
      ],
      "execution_count": 0,
      "outputs": []
    },
    {
      "cell_type": "code",
      "metadata": {
        "id": "n-feQGhFyJSW",
        "colab_type": "code",
        "colab": {}
      },
      "source": [
        "dataset_data"
      ],
      "execution_count": 0,
      "outputs": []
    },
    {
      "cell_type": "code",
      "metadata": {
        "id": "v9Uk8C86a-Xd",
        "colab_type": "code",
        "colab": {}
      },
      "source": [
        "from keras.models import Sequential\n",
        "from keras.layers.core import Dense,Activation\n",
        "from keras.optimizers import Adam\n",
        "from sklearn import preprocessing\n",
        "\n",
        "minmax_scale = preprocessing.MinMaxScaler(feature_range=(0, 1)) \n",
        "\n",
        "scaledFeatures = minmax_scale.fit_transform(dataset_data)"
      ],
      "execution_count": 0,
      "outputs": []
    },
    {
      "cell_type": "code",
      "metadata": {
        "id": "qoumSt9HdTQQ",
        "colab_type": "code",
        "colab": {}
      },
      "source": [
        "def build_model():\n",
        "  #build model\n",
        "  model = Sequential()\n",
        "  \n",
        "  model.add(Dense(input_dim=8,units=40,activation ='relu'))\n",
        "  model.add(Dense(units=100,activation ='relu'))\n",
        "  model.add(Dense(units=10,activation ='relu'))\n",
        "  model.add(Dense(units=1,activation ='sigmoid'))\n",
        "  model.summary()\n",
        "  \n",
        "  return model\n"
      ],
      "execution_count": 0,
      "outputs": []
    },
    {
      "cell_type": "code",
      "metadata": {
        "id": "_gr6NNvCiSXg",
        "colab_type": "code",
        "colab": {}
      },
      "source": [
        "def show_train_history(train_history, train, validation):\n",
        "    plt.plot(train_history.history[train])\n",
        "    plt.plot(train_history.history[validation])\n",
        "    plt.title('Train History')\n",
        "    plt.ylabel('train')\n",
        "    plt.xlabel('Epoch')\n",
        "    plt.legend(['train', 'validation'], loc='center right')\n",
        "    plt.show()\n",
        "    "
      ],
      "execution_count": 0,
      "outputs": []
    },
    {
      "cell_type": "code",
      "metadata": {
        "id": "RJj2LMTSjLEW",
        "colab_type": "code",
        "outputId": "b75c145a-6257-4c84-d6de-f127bde34100",
        "colab": {
          "base_uri": "https://localhost:8080/",
          "height": 1000
        }
      },
      "source": [
        "model = build_model()\n",
        "\n",
        "model.compile(loss='binary_crossentropy', optimizer='adam', metrics=['acc'])\n",
        "train_history = model.fit(scaledFeatures, dataset_target, validation_split=0.2, batch_size=30, epochs=20)\n",
        "\n",
        "show_train_history(train_history,'acc','val_acc')\n",
        "show_train_history(train_history,'loss','val_loss')"
      ],
      "execution_count": 0,
      "outputs": [
        {
          "output_type": "stream",
          "text": [
            "_________________________________________________________________\n",
            "Layer (type)                 Output Shape              Param #   \n",
            "=================================================================\n",
            "dense_77 (Dense)             (None, 40)                360       \n",
            "_________________________________________________________________\n",
            "dense_78 (Dense)             (None, 100)               4100      \n",
            "_________________________________________________________________\n",
            "dense_79 (Dense)             (None, 10)                1010      \n",
            "_________________________________________________________________\n",
            "dense_80 (Dense)             (None, 1)                 11        \n",
            "=================================================================\n",
            "Total params: 5,481\n",
            "Trainable params: 5,481\n",
            "Non-trainable params: 0\n",
            "_________________________________________________________________\n",
            "Train on 712 samples, validate on 179 samples\n",
            "Epoch 1/20\n",
            "712/712 [==============================] - 2s 2ms/step - loss: 0.6656 - acc: 0.6545 - val_loss: 0.6027 - val_acc: 0.8101\n",
            "Epoch 2/20\n",
            "712/712 [==============================] - 0s 80us/step - loss: 0.5532 - acc: 0.7963 - val_loss: 0.4641 - val_acc: 0.8212\n",
            "Epoch 3/20\n",
            "712/712 [==============================] - 0s 80us/step - loss: 0.4619 - acc: 0.8006 - val_loss: 0.4005 - val_acc: 0.8212\n",
            "Epoch 4/20\n",
            "712/712 [==============================] - 0s 82us/step - loss: 0.4447 - acc: 0.8048 - val_loss: 0.3842 - val_acc: 0.8324\n",
            "Epoch 5/20\n",
            "712/712 [==============================] - 0s 83us/step - loss: 0.4431 - acc: 0.8062 - val_loss: 0.3878 - val_acc: 0.8436\n",
            "Epoch 6/20\n",
            "712/712 [==============================] - 0s 78us/step - loss: 0.4351 - acc: 0.8090 - val_loss: 0.3891 - val_acc: 0.8101\n",
            "Epoch 7/20\n",
            "712/712 [==============================] - 0s 87us/step - loss: 0.4314 - acc: 0.8188 - val_loss: 0.3754 - val_acc: 0.8380\n",
            "Epoch 8/20\n",
            "712/712 [==============================] - 0s 83us/step - loss: 0.4297 - acc: 0.8104 - val_loss: 0.3737 - val_acc: 0.8324\n",
            "Epoch 9/20\n",
            "712/712 [==============================] - 0s 74us/step - loss: 0.4267 - acc: 0.8146 - val_loss: 0.3705 - val_acc: 0.8492\n",
            "Epoch 10/20\n",
            "712/712 [==============================] - 0s 80us/step - loss: 0.4260 - acc: 0.8230 - val_loss: 0.3817 - val_acc: 0.8156\n",
            "Epoch 11/20\n",
            "712/712 [==============================] - 0s 77us/step - loss: 0.4214 - acc: 0.8174 - val_loss: 0.3655 - val_acc: 0.8603\n",
            "Epoch 12/20\n",
            "712/712 [==============================] - 0s 80us/step - loss: 0.4198 - acc: 0.8174 - val_loss: 0.3612 - val_acc: 0.8436\n",
            "Epoch 13/20\n",
            "712/712 [==============================] - 0s 77us/step - loss: 0.4194 - acc: 0.8216 - val_loss: 0.3623 - val_acc: 0.8492\n",
            "Epoch 14/20\n",
            "712/712 [==============================] - 0s 102us/step - loss: 0.4179 - acc: 0.8090 - val_loss: 0.3607 - val_acc: 0.8492\n",
            "Epoch 15/20\n",
            "712/712 [==============================] - 0s 83us/step - loss: 0.4157 - acc: 0.8244 - val_loss: 0.3585 - val_acc: 0.8492\n",
            "Epoch 16/20\n",
            "712/712 [==============================] - 0s 88us/step - loss: 0.4140 - acc: 0.8244 - val_loss: 0.3557 - val_acc: 0.8492\n",
            "Epoch 17/20\n",
            "712/712 [==============================] - 0s 82us/step - loss: 0.4165 - acc: 0.8244 - val_loss: 0.3624 - val_acc: 0.8436\n",
            "Epoch 18/20\n",
            "712/712 [==============================] - 0s 83us/step - loss: 0.4201 - acc: 0.8174 - val_loss: 0.3506 - val_acc: 0.8659\n",
            "Epoch 19/20\n",
            "712/712 [==============================] - 0s 108us/step - loss: 0.4149 - acc: 0.8174 - val_loss: 0.3522 - val_acc: 0.8603\n",
            "Epoch 20/20\n",
            "712/712 [==============================] - 0s 94us/step - loss: 0.4125 - acc: 0.8230 - val_loss: 0.3517 - val_acc: 0.8547\n"
          ],
          "name": "stdout"
        },
        {
          "output_type": "display_data",
          "data": {
            "image/png": "[encoded data removed]",
            "text/plain": [
              "<Figure size 432x288 with 1 Axes>"
            ]
          },
          "metadata": {
            "tags": []
          }
        },
        {
          "output_type": "display_data",
          "data": {
            "image/png": "[encoded data removed]",
            "text/plain": [
              "<Figure size 432x288 with 1 Axes>"
            ]
          },
          "metadata": {
            "tags": []
          }
        }
      ]
    },
    {
      "cell_type": "code",
      "metadata": {
        "id": "du_KRrIhBfcR",
        "colab_type": "code",
        "colab": {}
      },
      "source": [
        ""
      ],
      "execution_count": 0,
      "outputs": []
    }
  ]
}