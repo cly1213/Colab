{
  "nbformat": 4,
  "nbformat_minor": 0,
  "metadata": {
    "colab": {
      "name": "RNN.ipynb",
      "version": "0.3.2",
      "provenance": [],
      "collapsed_sections": [],
      "include_colab_link": true
    },
    "kernelspec": {
      "name": "python3",
      "display_name": "Python 3"
    },
    "accelerator": "GPU"
  },
  "cells": [
    {
      "cell_type": "markdown",
      "metadata": {
        "id": "view-in-github",
        "colab_type": "text"
      },
      "source": [
        "<a href=\"https://colab.research.google.com/github/cly1213/Colab/blob/master/RNN.ipynb\" target=\"_parent\"><img src=\"https://colab.research.google.com/assets/colab-badge.svg\" alt=\"Open In Colab\"/></a>"
      ]
    },
    {
      "cell_type": "code",
      "metadata": {
        "id": "5fvp-aUzhjRP",
        "colab_type": "code",
        "colab": {
          "base_uri": "https://localhost:8080/",
          "height": 54
        },
        "outputId": "d026f507-5b2c-4088-e112-d6d200df421f"
      },
      "source": [
        "from google.colab import drive\n",
        "import os\n",
        "drive.mount('/content/gdrive')"
      ],
      "execution_count": 9,
      "outputs": [
        {
          "output_type": "stream",
          "text": [
            "Drive already mounted at /content/gdrive; to attempt to forcibly remount, call drive.mount(\"/content/gdrive\", force_remount=True).\n"
          ],
          "name": "stdout"
        }
      ]
    },
    {
      "cell_type": "code",
      "metadata": {
        "id": "ifzj3Tlxhy5j",
        "colab_type": "code",
        "colab": {
          "base_uri": "https://localhost:8080/",
          "height": 34
        },
        "outputId": "fbb524f6-8b23-40b3-e634-203a3e5feb54"
      },
      "source": [
        "os.chdir(\"/content/gdrive/My Drive/source/RNN\") #change directory\n",
        "os.getcwd()"
      ],
      "execution_count": 10,
      "outputs": [
        {
          "output_type": "execute_result",
          "data": {
            "text/plain": [
              "'/content/gdrive/My Drive/source/RNN'"
            ]
          },
          "metadata": {
            "tags": []
          },
          "execution_count": 10
        }
      ]
    },
    {
      "cell_type": "code",
      "metadata": {
        "id": "5NaA0O6eh-lh",
        "colab_type": "code",
        "colab": {
          "base_uri": "https://localhost:8080/",
          "height": 34
        },
        "outputId": "39216db0-f587-45a2-99c7-756254838943"
      },
      "source": [
        "!ls"
      ],
      "execution_count": 11,
      "outputs": [
        {
          "output_type": "stream",
          "text": [
            "dataset  model.py  __pycache__\trnn.py\n"
          ],
          "name": "stdout"
        }
      ]
    },
    {
      "cell_type": "code",
      "metadata": {
        "id": "bVeMLtrXiXd-",
        "colab_type": "code",
        "colab": {
          "base_uri": "https://localhost:8080/",
          "height": 751
        },
        "outputId": "a6a8dfdd-1c02-4b98-c95a-4fbcd230be76"
      },
      "source": [
        "!python3 rnn.py"
      ],
      "execution_count": 12,
      "outputs": [
        {
          "output_type": "stream",
          "text": [
            "Now processing  Learning_set-Bearing2_1-acc.csv ...\n",
            "<Figure size 640x480 with 1 Axes>\n",
            "(11405, 256, 2)\n",
            "WARNING: Logging before flag parsing goes to stderr.\n",
            "W0725 07:02:47.926469 140647967496064 deprecation_wrapper.py:119] From /content/gdrive/My Drive/source/RNN/model.py:12: The name tf.placeholder is deprecated. Please use tf.compat.v1.placeholder instead.\n",
            "\n",
            "W0725 07:02:47.940056 140647967496064 deprecation_wrapper.py:119] From /content/gdrive/My Drive/source/RNN/model.py:20: The name tf.variable_scope is deprecated. Please use tf.compat.v1.variable_scope instead.\n",
            "\n",
            "W0725 07:02:47.940444 140647967496064 deprecation.py:323] From /content/gdrive/My Drive/source/RNN/model.py:29: LSTMCell.__init__ (from tensorflow.python.ops.rnn_cell_impl) is deprecated and will be removed in a future version.\n",
            "Instructions for updating:\n",
            "This class is equivalent as tf.keras.layers.LSTMCell, and will be replaced by that in Tensorflow 2.0.\n",
            "W0725 07:02:47.941348 140647967496064 deprecation_wrapper.py:119] From /content/gdrive/My Drive/source/RNN/model.py:30: The name tf.nn.rnn_cell.DropoutWrapper is deprecated. Please use tf.compat.v1.nn.rnn_cell.DropoutWrapper instead.\n",
            "\n",
            "W0725 07:02:47.954363 140647967496064 deprecation.py:323] From /content/gdrive/My Drive/source/RNN/model.py:32: dynamic_rnn (from tensorflow.python.ops.rnn) is deprecated and will be removed in a future version.\n",
            "Instructions for updating:\n",
            "Please use `keras.layers.RNN(cell)`, which is equivalent to this API\n",
            "W0725 07:02:47.999965 140647967496064 deprecation.py:506] From /usr/local/lib/python3.6/dist-packages/tensorflow/python/ops/init_ops.py:1251: calling VarianceScaling.__init__ (from tensorflow.python.ops.init_ops) with dtype is deprecated and will be removed in a future version.\n",
            "Instructions for updating:\n",
            "Call initializer instance with the dtype argument instead of passing it to the constructor\n",
            "W0725 07:02:48.007444 140647967496064 deprecation.py:506] From /usr/local/lib/python3.6/dist-packages/tensorflow/python/ops/rnn_cell_impl.py:961: calling Zeros.__init__ (from tensorflow.python.ops.init_ops) with dtype is deprecated and will be removed in a future version.\n",
            "Instructions for updating:\n",
            "Call initializer instance with the dtype argument instead of passing it to the constructor\n",
            "W0725 07:02:48.701988 140647967496064 deprecation.py:323] From /content/gdrive/My Drive/source/RNN/model.py:38: dense (from tensorflow.python.layers.core) is deprecated and will be removed in a future version.\n",
            "Instructions for updating:\n",
            "Use keras.layers.dense instead.\n",
            "W0725 07:02:49.109486 140647967496064 deprecation_wrapper.py:119] From /content/gdrive/My Drive/source/RNN/model.py:44: The name tf.train.AdamOptimizer is deprecated. Please use tf.compat.v1.train.AdamOptimizer instead.\n",
            "\n",
            "W0725 07:02:49.367524 140647967496064 deprecation_wrapper.py:119] From rnn.py:61: The name tf.set_random_seed is deprecated. Please use tf.compat.v1.set_random_seed instead.\n",
            "\n",
            "W0725 07:02:49.367819 140647967496064 deprecation_wrapper.py:119] From rnn.py:62: The name tf.InteractiveSession is deprecated. Please use tf.compat.v1.InteractiveSession instead.\n",
            "\n",
            "W0725 07:02:49.597978 140647967496064 deprecation_wrapper.py:119] From rnn.py:63: The name tf.global_variables_initializer is deprecated. Please use tf.compat.v1.global_variables_initializer instead.\n",
            "\n",
            "Iteration 0 Traing_Loss: 1.7538677\n",
            "Iteration 11 Traing_Loss: 0.8659387\n",
            "Iteration 22 Traing_Loss: 0.9317836\n",
            "Iteration 33 Traing_Loss: 0.705284\n",
            "Iteration 44 Traing_Loss: 0.81281173\n",
            "Iteration 55 Traing_Loss: 0.6339\n",
            "Iteration 66 Traing_Loss: 0.7052736\n",
            "Iteration 77 Traing_Loss: 0.69397515\n",
            "Iteration 88 Traing_Loss: 0.7324419\n"
          ],
          "name": "stdout"
        }
      ]
    },
    {
      "cell_type": "code",
      "metadata": {
        "id": "WU2HEbs1xwhf",
        "colab_type": "code",
        "colab": {}
      },
      "source": [
        ""
      ],
      "execution_count": 0,
      "outputs": []
    }
  ]
}